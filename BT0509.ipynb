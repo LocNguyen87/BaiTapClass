{
 "cells": [
  {
   "cell_type": "code",
   "execution_count": 30,
   "id": "de068791",
   "metadata": {},
   "outputs": [
    {
     "name": "stdout",
     "output_type": "stream",
     "text": [
      "Nhập số lượng đường tròn: 10\n",
      "Bán kính các đường tròn được tạo: 13 33 192 408 483 491 451 384 107 390 \n",
      "Bán kính đường tròn lớn nhất là: 491\n",
      "Danh sách các đường tròn đã sắp xếp theo bán kính: 491 483 451 408 390 384 192 107 33 13 "
     ]
    }
   ],
   "source": [
    "import random\n",
    "so_luong = int(input('Nhập số lượng đường tròn: '))\n",
    "# Định nghĩa đối tượng đường tròn\n",
    "class Circle:\n",
    "    def __init__(self, r):\n",
    "        self.r = r\n",
    "# Tạo list chứa các đối tượng đường tròn\n",
    "list_dt = []\n",
    "\n",
    "# Tạo các đối tượng đường tròn và đưa vào list\n",
    "for i in range(so_luong):\n",
    "    dt = Circle(randint(1,500))\n",
    "    list_dt.append(dt)\n",
    "\n",
    "# In kết quả\n",
    "print('Bán kính các đường tròn được tạo:',end=' ')\n",
    "for dt in list_dt: print(dt.r,end=' ')\n",
    "\n",
    "# Sắp xếp các đường tròn trong list theo bán kính \n",
    "sorted_list = sorted(list_dt, key=lambda x: x.r, reverse=True)\n",
    "\n",
    "# Tìm đường tròn có bán kính lớn nhất\n",
    "print(f'\\nBán kính đường tròn lớn nhất là: {sorted_list[0].r}')\n",
    "\n",
    "# In kết quả\n",
    "print('Danh sách các đường tròn đã sắp xếp theo bán kính:',end=' ')\n",
    "for sdt in sorted_list: print(sdt.r,end=' ')\n"
   ]
  },
  {
   "cell_type": "code",
   "execution_count": null,
   "id": "b01442eb",
   "metadata": {},
   "outputs": [],
   "source": []
  }
 ],
 "metadata": {
  "kernelspec": {
   "display_name": "Python 3 (ipykernel)",
   "language": "python",
   "name": "python3"
  },
  "language_info": {
   "codemirror_mode": {
    "name": "ipython",
    "version": 3
   },
   "file_extension": ".py",
   "mimetype": "text/x-python",
   "name": "python",
   "nbconvert_exporter": "python",
   "pygments_lexer": "ipython3",
   "version": "3.9.12"
  }
 },
 "nbformat": 4,
 "nbformat_minor": 5
}
